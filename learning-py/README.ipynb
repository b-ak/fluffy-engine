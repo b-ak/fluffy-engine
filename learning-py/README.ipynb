{
 "cells": [
  {
   "cell_type": "markdown",
   "id": "edff363b",
   "metadata": {},
   "source": [
    "# Learning python\n",
    "A combination of code snippets and syntax from MOOCs and other online resources\n",
    "\n",
    "Table of Contents\n",
    "=================\n",
    "\n",
    "   * [Print statement](#print-statement)\n",
    "      * [Printing a List](#printing-a-list)\n",
    "      * [Comma after print](#comma-after-print)\n",
    "      * [Reading input](#reading-input)\n",
    "   * [Boolean operators](#boolean-operators)\n",
    "   * [Bitwise Operator](#bitwise-operator)\n",
    "      * [Shift Operatons](#shift-operatons)\n",
    "      * [NOT Operator](#not-operator)\n",
    "      * [Flip Bit](#flip-bit)\n",
    "   * [Conditional statements](#conditional-statements)\n",
    "   * [type()](#type)\n",
    "   * [String methods](#string-methods)\n",
    "      * [Concatenation](#concatenation)\n",
    "      * [Sub-String](#sub-string)\n",
    "      * [String Looping](#string-looping)\n",
    "      * [Reverse](#reverse)\n",
    "   * [Loops](#loops)\n",
    "      * [While](#while)\n",
    "      * [While / else](#while--else)\n",
    "         * [Example One](#example-one)\n",
    "         * [Example Two](#example-two)\n",
    "         * [Example Three](#example-three)\n",
    "      * [For Loops](#for-loops)\n",
    "      * [For / else](#for--else)\n",
    "   * [Functions](#functions)\n",
    "      * [Function Imports](#function-imports)\n",
    "      * [List all functions in a module](#list-all-functions-in-a-module)\n",
    "      * [Universal Import](#universal-import)\n",
    "      * [Don't use Universal Imports](#dont-use-universal-imports)\n",
    "      * [Passing multiple arguments](#passing-multiple-arguments)\n",
    "         * [Example](#example)\n",
    "      * [Anonymous Functions / lambda Operator](#anonymous-functions--lambda-operator)\n",
    "         * [filter](#filter)\n",
    "            * [Example One](#example-one-1)\n",
    "            * [Example Two](#example-two-1)\n",
    "            * [Example Three](#example-three-1)\n",
    "            * [Example Four](#example-four)\n",
    "            * [Example Five](#example-five)\n",
    "            * [Example Six](#example-six)\n",
    "            * [Example Seven](#example-seven)\n",
    "   * [Lists](#lists)\n",
    "      * [Building Lists / List Comprehension](#building-lists--list-comprehension)\n",
    "      * [for/in &amp; if](#forin--if)\n",
    "      * [List Append](#list-append)\n",
    "      * [List remove](#list-remove)\n",
    "      * [List pop](#list-pop)\n",
    "      * [List remove](#list-remove-1)\n",
    "      * [List delete](#list-delete)\n",
    "      * [List concatenate](#list-concatenate)\n",
    "      * [List Reverse](#list-reverse)\n",
    "         * [Example One](#example-one-2)\n",
    "         * [Example Two](#example-two-2)\n",
    "      * [List Slicing](#list-slicing)\n",
    "         * [Example One](#example-one-3)\n",
    "         * [Example Two](#example-two-3)\n",
    "         * [Example Three](#example-three-2)\n",
    "         * [Example Four](#example-four-1)\n",
    "         * [Example Five](#example-five-1)\n",
    "      * [Omitting Indices](#omitting-indices)\n",
    "      * [List Insertion &amp; Indexing](#list-insertion--indexing)\n",
    "      * [Looping in lists](#looping-in-lists)\n",
    "         * [Example](#example-1)\n",
    "         * [Method 1 - for item in list](#method-1---for-item-in-list)\n",
    "         * [Method 2 - iterate through indexes](#method-2---iterate-through-indexes)\n",
    "      * [List of Lists](#list-of-lists)\n",
    "         * [Example One](#example-one-4)\n",
    "         * [Example Two](#example-two-4)\n",
    "      * [Printing Pretty](#printing-pretty)\n",
    "         * [Example](#example-2)\n",
    "      * [Sorting the List](#sorting-the-list)\n",
    "      * [Range in lists](#range-in-lists)\n",
    "      * [Passing a range into a function](#passing-a-range-into-a-function)\n",
    "         * [Example One](#example-one-5)\n",
    "         * [Example Two](#example-two-5)\n",
    "      * [Enumerate](#enumerate)\n",
    "      * [Iterating Multiple Lists](#iterating-multiple-lists)\n",
    "   * [Dictionary](#dictionary)\n",
    "      * [Assigning a dictionary with three key-value pairs to residents](#assigning-a-dictionary-with-three-key-value-pairs-to-residents)\n",
    "      * [Adding New entries](#adding-new-entries)\n",
    "      * [Add &amp; Delete](#add--delete)\n",
    "      * [Retrieve key and value](#retrieve-key-and-value)\n",
    "         * [Method One](#method-one)\n",
    "         * [Method Two](#method-two)\n",
    "         * [Example](#example-3)\n",
    "      * [Lists and Dictionaries](#lists-and-dictionaries)\n",
    "         * [Looping in dictionaries](#looping-in-dictionaries)\n",
    "      * [More Looping techniques](#more-looping-techniques)\n",
    "      * [List of Dictionaries](#list-of-dictionaries)\n",
    "   * [Classes](#classes)\n",
    "      * [Example One](#example-one-6)\n",
    "      * [Errors](#errors)\n",
    "\n",
    "# Print statement"
   ]
  },
  {
   "cell_type": "code",
   "execution_count": null,
   "id": "5883081e",
   "metadata": {},
   "outputs": [],
   "source": [
    "print \"Turn\", turn + 1\n",
    "print '%s/%s/%s' % (now.year, now.month, now.day)\n",
    "print \"Let's not go to %s. 'Tis a silly %s.\" % (string_1, string_2)\n",
    "print 'This isn\\'t flying, this is falling with style!'\n",
    "print(\"{} is {} and {} is {}.\".format(philo.name, philo.age, mikey.name, mikey.age))\n",
    "print(The {q} {b} {f}'.format(f='fox', b='brown', q='quick'))\n",
    "print(The {q} {f} {f}'.format(f='fox', b='brown', q='quick'))"
   ]
  },
  {
   "cell_type": "markdown",
   "id": "7d1b7da8",
   "metadata": {},
   "source": [
    "## Printing a List"
   ]
  },
  {
   "cell_type": "code",
   "execution_count": null,
   "id": "6314bf16",
   "metadata": {},
   "outputs": [],
   "source": [
    "name = [\"brave\", \"ice\", \"berg\"]\n",
    "id = [1, 2, 3]\n",
    "for i in id:\n",
    "print \"My name is {0}. ID {1}\".format(name[i-1], id[i-1])"
   ]
  },
  {
   "cell_type": "markdown",
   "id": "1d9090b9",
   "metadata": {},
   "source": [
    "## Comma after print\n",
    "\n",
    "\n",
    "String manipulation is useful in for loops if you want to modify\n",
    "some content in a string."
   ]
  },
  {
   "cell_type": "code",
   "execution_count": null,
   "id": "0963bc16",
   "metadata": {},
   "outputs": [],
   "source": [
    "word = \"Marble\"\n",
    "for char in word:\n",
    "    print char,\n",
    "\n",
    "'''\n",
    "The example above iterates through each character in word and,\n",
    "in the end, prints out M a r b l e.\n",
    "\n",
    "The , character after our print statement means that our next print\n",
    "statement keeps printing on the same line.\n",
    "'''\n",
    "\n",
    "#Example\n",
    "phrase = \"A bird in the hand...\"\n",
    "\n",
    "# Add your for loop\n",
    "for i in phrase:\n",
    "    if i == 'A' or i == 'a':\n",
    "        print 'X',\n",
    "    else:\n",
    "        print i,\n",
    "\n",
    "#Don't delete this print statement!\n",
    "print"
   ]
  },
  {
   "cell_type": "markdown",
   "id": "e651ece2",
   "metadata": {},
   "source": [
    "## Reading input"
   ]
  },
  {
   "cell_type": "code",
   "execution_count": 2,
   "id": "393dba24",
   "metadata": {},
   "outputs": [
    {
     "ename": "NameError",
     "evalue": "name 'raw_input' is not defined",
     "output_type": "error",
     "traceback": [
      "\u001b[0;31m---------------------------------------------------------------------------\u001b[0m",
      "\u001b[0;31mNameError\u001b[0m                                 Traceback (most recent call last)",
      "\u001b[1;32m/mnt/vmshare/me/fluffy-engine/learning-py/README.ipynb Cell 8'\u001b[0m in \u001b[0;36m<cell line: 1>\u001b[0;34m()\u001b[0m\n\u001b[0;32m----> <a href='vscode-notebook-cell:/mnt/vmshare/me/fluffy-engine/learning-py/README.ipynb#ch0000007?line=0'>1</a>\u001b[0m name \u001b[39m=\u001b[39m raw_input(\u001b[39m\"\u001b[39m\u001b[39mWhat is your name?\u001b[39m\u001b[39m\"\u001b[39m)\n\u001b[1;32m      <a href='vscode-notebook-cell:/mnt/vmshare/me/fluffy-engine/learning-py/README.ipynb#ch0000007?line=1'>2</a>\u001b[0m var \u001b[39m=\u001b[39m \u001b[39minput\u001b[39m(\u001b[39m\"\u001b[39m\u001b[39mEnter a number\u001b[39m\u001b[39m\"\u001b[39m)\n\u001b[1;32m      <a href='vscode-notebook-cell:/mnt/vmshare/me/fluffy-engine/learning-py/README.ipynb#ch0000007?line=2'>3</a>\u001b[0m var \u001b[39m=\u001b[39m \u001b[39mint\u001b[39m(\u001b[39minput\u001b[39m(\u001b[39m\"\u001b[39m\u001b[39mEnter a number\u001b[39m\u001b[39m\"\u001b[39m))\n",
      "\u001b[0;31mNameError\u001b[0m: name 'raw_input' is not defined"
     ]
    }
   ],
   "source": [
    "name = raw_input(\"What is your name?\")\n",
    "var = input(\"Enter a number\")\n",
    "var = int(input(\"Enter a number\"))"
   ]
  },
  {
   "cell_type": "markdown",
   "id": "c6d586c4",
   "metadata": {},
   "source": [
    "There were two functions to get user input, called `input` and `raw_input`.\n",
    "The difference between them is, `raw_input` doesn't evaluate the data and returns as it is,\n",
    "in string form.\n",
    "But, `input` will evaluate whatever you entered and the result of evaluation will be returned"
   ]
  },
  {
   "cell_type": "code",
   "execution_count": null,
   "id": "e6647d84",
   "metadata": {},
   "outputs": [],
   "source": [
    "name = raw_input(\"What is your name?\")\n",
    "quest = raw_input(\"What is your quest?\")\n",
    "color = raw_input(\"What is your favorite color?\")\n",
    "\n",
    "print \"Ah, so your name is %s, your quest is %s, \" \\\n",
    "\"and your favorite color is %s.\" % (name, quest, color)\n",
    "\n",
    "# Example\n",
    "number = raw_input(\"Enter a number: \")\n",
    "if int(number) == 0:\n",
    "    print \"You entered 0\"\n",
    "\n",
    "'''\n",
    "raw_input asks the user for input and returns it as a string. But we're going to\n",
    "want to use integers for our guesses! To do this, we'll wrap the raw_inputs with int()\n",
    "to convert the string to an integer.\n",
    "'''\n",
    "\n",
    "guess = int(raw_input(\"Your guess: \"))\n",
    "'''\n",
    "Remember, raw_input turns user input into a string, so we use int()\n",
    "to make it a number again.\n",
    "'''"
   ]
  },
  {
   "cell_type": "markdown",
   "id": "08c422a3",
   "metadata": {},
   "source": [
    "# Boolean operators"
   ]
  },
  {
   "cell_type": "code",
   "execution_count": null,
   "id": "55151c79",
   "metadata": {},
   "outputs": [],
   "source": [
    "True or False\n",
    "(3 < 4) and (5 >= 5)\n",
    "this() and not that()"
   ]
  },
  {
   "cell_type": "markdown",
   "id": "112997c3",
   "metadata": {},
   "source": [
    "# Bitwise Operator"
   ]
  },
  {
   "cell_type": "code",
   "execution_count": null,
   "id": "f82e645a",
   "metadata": {},
   "outputs": [],
   "source": [
    "print 5 >> 4  # Right Shift\n",
    "print 5 << 1  # Left Shift\n",
    "print 8 & 5   # Bitwise AND\n",
    "print 9 | 4   # Bitwise OR\n",
    "print 12 ^ 42 # Bitwise XOR\n",
    "print ~88     # Bitwise NOT\n",
    "\n",
    "print bin(4)\n",
    "# => 0b100\n",
    "\n",
    "print int(\"0b11001001\", 2)\n",
    "# => 201\n",
    "\n",
    "print int(\"111\",2)\n",
    "# => 7\n",
    "\n",
    "print int(bin(5),2)\n",
    "# => 5"
   ]
  },
  {
   "cell_type": "markdown",
   "id": "392b5a7d",
   "metadata": {},
   "source": [
    "## Shift Operatons"
   ]
  },
  {
   "cell_type": "code",
   "execution_count": null,
   "id": "2ebcc7c7",
   "metadata": {},
   "outputs": [],
   "source": [
    "shift_right = 0b1100\n",
    "shift_left = 0b1\n",
    "\n",
    "# Your code here!\n",
    "shift_right >>= 2\n",
    "shift_left <<= 2\n",
    "\n",
    "print bin(shift_right)\n",
    "print bin(shift_left)\n",
    "\n",
    "# => 0b11\n",
    "# => 0b100"
   ]
  },
  {
   "cell_type": "markdown",
   "id": "e67b875d",
   "metadata": {},
   "source": [
    "## NOT Operator"
   ]
  },
  {
   "cell_type": "code",
   "execution_count": null,
   "id": "dc781d11",
   "metadata": {},
   "outputs": [],
   "source": [
    "print ~2\n",
    "# => -3"
   ]
  },
  {
   "cell_type": "markdown",
   "id": "4577153f",
   "metadata": {},
   "source": [
    "## Flip Bit"
   ]
  },
  {
   "cell_type": "code",
   "execution_count": null,
   "id": "ec9d03e0",
   "metadata": {},
   "outputs": [],
   "source": [
    "def flip_bit(number, n):\n",
    "    result = 0b0\n",
    "    result = number ^ (1 << (n-1))\n",
    "    return bin(result)"
   ]
  },
  {
   "cell_type": "markdown",
   "id": "ae9f8cf1",
   "metadata": {},
   "source": [
    "# Conditional statements"
   ]
  },
  {
   "cell_type": "code",
   "execution_count": null,
   "id": "6d4759a2",
   "metadata": {},
   "outputs": [],
   "source": [
    "if this_might_be_true():\n",
    "    print \"This really is true.\"\n",
    "elif that_might_be_true():\n",
    "    print \"That is true.\"\n",
    "else:\n",
    "    print \"None of the above.\""
   ]
  },
  {
   "cell_type": "markdown",
   "id": "8179c315",
   "metadata": {},
   "source": [
    "Don't forget to include a : after your if statements!"
   ]
  },
  {
   "cell_type": "code",
   "execution_count": null,
   "id": "919bdf72",
   "metadata": {},
   "outputs": [],
   "source": [
    "if guess_row not in range(5) or guess_col not in range(5):\n",
    "    print \"Oops, that's not even in the ocean.\""
   ]
  },
  {
   "cell_type": "markdown",
   "id": "4cdd9da9",
   "metadata": {},
   "source": [
    "# type()"
   ]
  },
  {
   "cell_type": "code",
   "execution_count": null,
   "id": "f383b35d",
   "metadata": {},
   "outputs": [],
   "source": [
    "'''\n",
    "Finally, the type() function returns the type of the data it receives as an\n",
    "argument.\n",
    "'''\n",
    "\n",
    "print type(42)\n",
    "print type(4.2)\n",
    "print type('spam')\n",
    "\n",
    "#Python will output:\n",
    "\n",
    "<type 'int'>\n",
    "<type 'float'>\n",
    "<type 'str'>"
   ]
  },
  {
   "cell_type": "markdown",
   "id": "44aaa44c",
   "metadata": {},
   "source": [
    "# String methods"
   ]
  },
  {
   "cell_type": "code",
   "execution_count": null,
   "id": "8125abe6",
   "metadata": {},
   "outputs": [],
   "source": [
    "fifth_letter = \"MONTY\"[4]\n",
    "\n",
    "ministry = \"The ministry of Defence\"\n",
    "\n",
    "len()\t- len(ministry)\n",
    "lower()\t- \"Ryan\".lower()\n",
    "upper()\t- ministry.upper()\n",
    "str()\t- str(2), would turn 2 into \"2\".\n",
    "\n",
    "x = \"J123\"\n",
    "x.isalpha()  # False"
   ]
  },
  {
   "cell_type": "markdown",
   "id": "5c29a6e6",
   "metadata": {},
   "source": [
    "In the first line, we create a string with letters and numbers.\n",
    "\n",
    "The second line then runs the function isalpha() which returns\n",
    "False since the string contains non-letter characters.\n",
    "\n",
    "## Concatenation\n",
    "\n",
    "Remember how to concatenate (i.e. add) strings together?"
   ]
  },
  {
   "cell_type": "code",
   "execution_count": null,
   "id": "7b25be46",
   "metadata": {},
   "outputs": [],
   "source": [
    "greeting = \"Hello \"\n",
    "name = \"D. Y.\"\n",
    "welcome = greeting + name\n",
    "\n",
    "print \"Spam\" + \" and\" + \" eggs\"\n",
    "This will print I have 2 coconuts!\n",
    "\n",
    "\n",
    "print \"I have \" + str(2) + \" coconuts!\""
   ]
  },
  {
   "cell_type": "markdown",
   "id": "b8bb2a0f",
   "metadata": {},
   "source": [
    "The `str()` method converts non-strings into strings. In the above example,\n",
    "you convert the number 2 into a string and then you concatenate the strings\n",
    "together just like in the previous exercise.\n",
    "\n",
    "\n",
    "## Sub-String"
   ]
  },
  {
   "cell_type": "code",
   "execution_count": null,
   "id": "dee796c0",
   "metadata": {},
   "outputs": [],
   "source": [
    "s = \"Charlie\"\n",
    "\n",
    "print s[0]\n",
    "# will print \"C\"\n",
    "\n",
    "print s[1:4]\n",
    "# will print \"har\""
   ]
  },
  {
   "cell_type": "markdown",
   "id": "9d9bd6c0",
   "metadata": {},
   "source": [
    "## String Looping\n",
    "\n",
    "Strings are like lists with characters as elements.\n",
    "You can loop through strings the same way you loop through lists"
   ]
  },
  {
   "cell_type": "code",
   "execution_count": 1,
   "id": "2200c13a",
   "metadata": {},
   "outputs": [
    {
     "ename": "SyntaxError",
     "evalue": "Missing parentheses in call to 'print'. Did you mean print(letter)? (416145730.py, line 2)",
     "output_type": "error",
     "traceback": [
      "\u001b[0;36m  Input \u001b[0;32mIn [1]\u001b[0;36m\u001b[0m\n\u001b[0;31m    print letter\u001b[0m\n\u001b[0m          ^\u001b[0m\n\u001b[0;31mSyntaxError\u001b[0m\u001b[0;31m:\u001b[0m Missing parentheses in call to 'print'. Did you mean print(letter)?\n"
     ]
    }
   ],
   "source": [
    "for letter in \"Codecademy\":\n",
    "    print letter\n",
    "\n",
    "for x in S: print(x, end=' ') # Iterate over a string\n",
    "...\n",
    "l u m b e r j a c k\n",
    "\n",
    "# Empty lines to make the output pretty\n",
    "print\n",
    "print\n",
    "\n",
    "word = \"Programming is fun!\"\n",
    "\n",
    "for letter in word:\n",
    "    # Only print out the letter i\n",
    "    if letter == \"i\":\n",
    "print letter"
   ]
  },
  {
   "cell_type": "markdown",
   "id": "6e4d3cb3",
   "metadata": {},
   "source": [
    "## Reverse"
   ]
  },
  {
   "cell_type": "code",
   "execution_count": null,
   "id": "6e8a004d",
   "metadata": {},
   "outputs": [],
   "source": [
    "reverse(\"abcd\") should return \"dcba\".\n",
    "\n",
    "or\n",
    "\n",
    "[::-1] to help you with this.\n",
    "S = \"hello\"\n",
    "S[::-1] will return \"olleh\""
   ]
  },
  {
   "cell_type": "markdown",
   "id": "bd2e46c5",
   "metadata": {},
   "source": [
    "# Loops\n",
    "\n",
    "## While"
   ]
  },
  {
   "cell_type": "code",
   "execution_count": null,
   "id": "2d9cb93f",
   "metadata": {},
   "outputs": [],
   "source": [
    "loop_condition = True\n",
    "\n",
    "while loop_condition:\n",
    "print \"I am a loop\"\n",
    "loop_condition = False"
   ]
  },
  {
   "cell_type": "markdown",
   "id": "c2357836",
   "metadata": {},
   "source": [
    "## While / else\n",
    "\n",
    "\n",
    "`while/else` is similar to `if/else`, but there is a difference: the `else`\n",
    "block will execute anytime the loop condition is evaluated to `False`.\n",
    "\n",
    "This means that it will execute if the loop is never entered or if the\n",
    "loop exits normally. If the loop exits as the result of a `break`, the\n",
    "`else` will not be executed.\n",
    "\n",
    "\n",
    "\n",
    "### Example One"
   ]
  },
  {
   "cell_type": "code",
   "execution_count": null,
   "id": "182a7c40",
   "metadata": {},
   "outputs": [],
   "source": [
    "'''\n",
    "In this example, the loop will break if a 5 is generated, and the else\n",
    "will not execute. Otherwise, after 3 numbers are generated, the loop\n",
    "condition will become false and the else will execute.\n",
    "'''\n",
    "\n",
    "import random\n",
    "\n",
    "print \"Lucky Numbers! 3 numbers will be generated.\"\n",
    "print \"If one of them is a '5', you lose!\"\n",
    "\n",
    "count = 0\n",
    "while count < 3:\n",
    "    num = random.randint(1, 6)\n",
    "    print num\n",
    "    if num == 5:\n",
    "        print \"Sorry, you lose!\"\n",
    "        break\n",
    "    count += 1\n",
    "else:\n",
    "    print \"You win!\""
   ]
  },
  {
   "cell_type": "markdown",
   "id": "c7ff4daf",
   "metadata": {},
   "source": [
    "### Example Two"
   ]
  },
  {
   "cell_type": "code",
   "execution_count": null,
   "id": "f2255699",
   "metadata": {},
   "outputs": [],
   "source": [
    "from random import randint\n",
    "\n",
    "# Generates a number from 1 through 10 inclusive\n",
    "random_number = randint(1, 10)\n",
    "\n",
    "guesses_left = 3\n",
    "# Start your game!\n",
    "while guesses_left > 0:\n",
    "    guess = int(raw_input(\"Your Guess : \" ))\n",
    "    if guess == random_number:\n",
    "        print \"You Win\"\n",
    "        break\n",
    "    else:\n",
    "        guesses_left -= 1\n",
    "else:\n",
    "    print \"You lose.\""
   ]
  },
  {
   "cell_type": "markdown",
   "id": "8433f614",
   "metadata": {},
   "source": [
    "### Example Three"
   ]
  },
  {
   "cell_type": "code",
   "execution_count": null,
   "id": "a444a44a",
   "metadata": {},
   "outputs": [],
   "source": [
    "# A nice use of while/else\n",
    "\n",
    "def is_prime(x):\n",
    "    if x < 2:\n",
    "        return False\n",
    "#    elif x == 2:\n",
    "#        return True\n",
    "    else:\n",
    "        n = 2\n",
    "        while n <= x-1:\n",
    "            if x % n == 0:\n",
    "                return False\n",
    "                break\n",
    "            n += 1\n",
    "        else:\n",
    "            return True"
   ]
  },
  {
   "cell_type": "markdown",
   "id": "f9159928",
   "metadata": {},
   "source": [
    "## For Loops"
   ]
  },
  {
   "cell_type": "code",
   "execution_count": null,
   "id": "187d20f0",
   "metadata": {},
   "outputs": [],
   "source": [
    "print \"Counting...\"\n",
    "\n",
    "for i in range(20):\n",
    "    print i"
   ]
  },
  {
   "cell_type": "markdown",
   "id": "bd55d869",
   "metadata": {},
   "source": [
    "## For / else\n",
    "\n",
    "Just like with while, for loops may have an else associated with them.\n",
    "\n",
    "In this case, the else statement is executed after the for, but only\n",
    "if the for ends normally—that is, not with a break. This code will break\n",
    "when it hits 'tomato', so the else block won't be executed."
   ]
  },
  {
   "cell_type": "code",
   "execution_count": null,
   "id": "bf967dbd",
   "metadata": {},
   "outputs": [],
   "source": [
    "fruits = ['banana', 'apple', 'orange', 'tomato', 'pear', 'grape']\n",
    "\n",
    "print 'You have...'\n",
    "for f in fruits:\n",
    "    if f == 'tomato':\n",
    "        print 'A tomato is not a fruit!' # (It actually is.)\n",
    "        break\n",
    "    print 'A', f\n",
    "else:\n",
    "    print 'A fine selection of fruits!'"
   ]
  },
  {
   "cell_type": "markdown",
   "id": "70e86b66",
   "metadata": {},
   "source": [
    "# Functions"
   ]
  },
  {
   "cell_type": "code",
   "execution_count": null,
   "id": "a9ca9795",
   "metadata": {},
   "outputs": [],
   "source": [
    "def shout(phrase):\n",
    "if phrase == phrase.upper():\n",
    "    return \"YOU'RE SHOUTING!\"\n",
    "else:\n",
    "    return \"Can you speak up?\"\n",
    "\n",
    "shout(\"I'M INTERESTED IN SHOUTING\")\n",
    "\n",
    "def count_small(numbers):\n",
    "    total = 0\n",
    "    for n in numbers:\n",
    "if n < 10:\n",
    "    total = total + 1\n",
    "    return total\n",
    "\n",
    "lost = [4, 8, 15, 16, 23, 42]\n",
    "small = count_small(lost)\n",
    "print small"
   ]
  },
  {
   "cell_type": "markdown",
   "id": "aa180ead",
   "metadata": {},
   "source": [
    "## Function Imports"
   ]
  },
  {
   "cell_type": "code",
   "execution_count": null,
   "id": "983e5e9a",
   "metadata": {},
   "outputs": [],
   "source": [
    "import math\n",
    "print math.sqrt(25)"
   ]
  },
  {
   "cell_type": "markdown",
   "id": "7c47769f",
   "metadata": {},
   "source": [
    "Nice work! Now Python knows how to take the square root of a number.\n",
    "\n",
    "However, we only really needed the sqrt function, and it can be frustrating\n",
    "to have to keep typing `math.sqrt()`.\n",
    "\n",
    "It's possible to import only certain variables or functions from a given module.\n",
    "Pulling in just a single function from a module is called a function import, and\n",
    "it's done with the from keyword:"
   ]
  },
  {
   "cell_type": "code",
   "execution_count": null,
   "id": "9068ecb5",
   "metadata": {},
   "outputs": [],
   "source": [
    "from module import function"
   ]
  },
  {
   "cell_type": "markdown",
   "id": "2c086bd2",
   "metadata": {},
   "source": [
    "Now you can just type `sqrt()` to get the square root of a number—no more `math.sqrt()`!\n",
    "\n",
    "\n",
    "## List all functions in a module"
   ]
  },
  {
   "cell_type": "code",
   "execution_count": null,
   "id": "50bae654",
   "metadata": {},
   "outputs": [],
   "source": [
    "import math            # Imports the math module\n",
    "everything = dir(math) # Sets everything to a list of things from math\n",
    "print everything       # Prints 'em all!"
   ]
  },
  {
   "cell_type": "markdown",
   "id": "f9f9fbb1",
   "metadata": {},
   "source": [
    "## Universal Import\n",
    "\n",
    "\n",
    "What if we still want all of the variables and functions in a module but don't want to\n",
    "have to constantly `type math.`?\n",
    "\n",
    "Universal import can handle this for you. The syntax for this is:"
   ]
  },
  {
   "cell_type": "markdown",
   "id": "0728d570",
   "metadata": {},
   "source": [
    "## Don't use Universal Imports\n",
    "\n",
    "Here Be Dragons\n",
    "\n",
    "Universal imports may look great on the surface, but they're not a\n",
    "good idea for one very important reason:\n",
    "they fill your program with a ton of variable and function names\n",
    "without the safety of those names still being associated with the\n",
    "module(s) they came from.\n",
    "\n",
    "If you have a function of your very own named sqrt and you import math,\n",
    "your function is safe: there is your `sqrt` and there is `math.sqrt`.\n",
    "\n",
    "If you do from `math import *`, however, you have a problem: namely,\n",
    "two different functions with the exact same name.\n",
    "\n",
    "Even if your own definitions don't directly conflict with names from\n",
    "imported modules, if you `import *` from several modules at once,\n",
    "you won't be able to figure out which variable or function came\n",
    "from where.\n",
    "\n",
    "For these reasons, it's best to stick with either `import module` and\n",
    "type `module.name` or just `import` specific variables and functions\n",
    "from various modules as needed.\n"
   ]
  },
  {
   "cell_type": "code",
   "execution_count": 5,
   "id": "ce301940",
   "metadata": {},
   "outputs": [
    {
     "ename": "SyntaxError",
     "evalue": "invalid syntax (133151841.py, line 8)",
     "output_type": "error",
     "traceback": [
      "\u001b[0;36m  Input \u001b[0;32mIn [5]\u001b[0;36m\u001b[0m\n\u001b[0;31m    print max(args)\u001b[0m\n\u001b[0m          ^\u001b[0m\n\u001b[0;31mSyntaxError\u001b[0m\u001b[0;31m:\u001b[0m invalid syntax\n"
     ]
    }
   ],
   "source": [
    "from math import *\n",
    "print(sqrt(25))\n",
    "\n",
    "\n",
    "## Passing multiple arguments\n",
    "\n",
    "def biggest_number(*args):\n",
    "    print max(args)\n",
    "    return max(args)\n",
    "\n",
    "def smallest_number(*args):\n",
    "    print min(args)\n",
    "    return min(args)\n",
    "\n",
    "def distance_from_zero(arg):\n",
    "    print abs(arg)\n",
    "    return abs(arg)\n",
    "\n",
    "\n",
    "biggest_number(-10, -5, 5, 10)\n",
    "smallest_number(-10, -5, 5, 10)\n",
    "distance_from_zero(-10)"
   ]
  },
  {
   "cell_type": "markdown",
   "id": "a8f51052",
   "metadata": {},
   "source": [
    "### Example"
   ]
  },
  {
   "cell_type": "code",
   "execution_count": 1,
   "id": "3f67af8f",
   "metadata": {},
   "outputs": [
    {
     "name": "stdout",
     "output_type": "stream",
     "text": [
      "Shutting Down\n",
      "Shutdown aborted\n",
      "Sorry\n"
     ]
    }
   ],
   "source": [
    "def shut_down(s):\n",
    "    if s.lower() == \"yes\":\n",
    "        return \"Shutting Down\"\n",
    "    elif s.lower() == \"no\":\n",
    "        return \"Shutdown aborted\"\n",
    "    else:\n",
    "        return \"Sorry\"\n",
    "\n",
    "print(shut_down(\"yEs\"))\n",
    "print(shut_down(\"nO\"))\n",
    "print(shut_down(\"bleh\"))"
   ]
  },
  {
   "cell_type": "markdown",
   "id": "6dc3b89b",
   "metadata": {},
   "source": [
    "## Anonymous Functions / lambda Operator\n",
    "\n",
    "One of the more powerful aspects of Python is that it allows for a style\n",
    "of programming called functional programming, which means that you're\n",
    "allowed to pass functions around just as if they were variables or values.\n",
    "\n",
    "The lambda operator or lambda function is a way to create small anonymous\n",
    "functions, i.e. functions without a name. These functions are throw-away\n",
    "functions, i.e. they are just needed where they have been created.\n",
    "\n",
    "Lambda functions are mainly used in combination with the functions\n",
    "filter(), map() and reduce()."
   ]
  },
  {
   "cell_type": "code",
   "execution_count": 2,
   "id": "7e857f3b",
   "metadata": {},
   "outputs": [],
   "source": [
    "# lambda\n",
    "# lambda argument_list: expression\n",
    "\n",
    "lambda x: x % 3 == 0\n",
    "\n",
    "# Is the same as\n",
    "\n",
    "def by_three(x):\n",
    "    return x % 3 == 0"
   ]
  },
  {
   "cell_type": "markdown",
   "id": "623cef67",
   "metadata": {},
   "source": [
    "Only we don't need to actually give the function a name; it does its work\n",
    "and returns a value without one. That's why the function the lambda\n",
    "creates is an anonymous function.\n",
    "\n",
    "\n",
    "### filter\n",
    "\n",
    "The function `filter(function, list)` offers an elegant way to filter out\n",
    "all the elements of a list, for which the function function returns True.\n",
    "\n",
    "The function `filter(f,l)` needs a function `f` as its first argument.\n",
    "`f` returns a Boolean value, i.e. either `True` or `False`.\n",
    "This function will be applied to every element of the list `l`.\n",
    "Only if `f` returns `True` will the element of the list be included in\n",
    "the result list\n",
    "\n",
    "#### Example One"
   ]
  },
  {
   "cell_type": "code",
   "execution_count": 4,
   "id": "0fc0fdad",
   "metadata": {},
   "outputs": [
    {
     "name": "stdout",
     "output_type": "stream",
     "text": [
      "<filter object at 0x00000256C6E49C10>\n"
     ]
    }
   ],
   "source": [
    "fib = [0,1,1,2,3,5,8,13,21,34,55]\n",
    "result = filter(lambda x: x % 2, fib)\n",
    "print (result)\n",
    "# => [1, 1, 3, 5, 13, 21, 55]"
   ]
  },
  {
   "cell_type": "markdown",
   "id": "f17bc113",
   "metadata": {},
   "source": [
    "#### Example Two"
   ]
  },
  {
   "cell_type": "code",
   "execution_count": null,
   "id": "9501c9ef",
   "metadata": {},
   "outputs": [],
   "source": [
    "my_list = range(16)\n",
    "print filter(lambda x: x % 3 == 0, my_list)\n",
    "# => [0, 3, 6, 9, 12, 15]"
   ]
  },
  {
   "cell_type": "markdown",
   "id": "bc2ad2f1",
   "metadata": {},
   "source": [
    "#### Example Three"
   ]
  },
  {
   "cell_type": "code",
   "execution_count": null,
   "id": "d25dd8d1",
   "metadata": {},
   "outputs": [],
   "source": [
    "languages = [\"HTML\", \"JavaScript\", \"Python\", \"Ruby\"]\n",
    "print filter(lambda x: 'Python' in x, languages)\n",
    "# => ['Python']"
   ]
  },
  {
   "cell_type": "markdown",
   "id": "e065ac1f",
   "metadata": {},
   "source": [
    "#### Example Four"
   ]
  },
  {
   "cell_type": "code",
   "execution_count": null,
   "id": "7dc93a4d",
   "metadata": {},
   "outputs": [],
   "source": [
    "lst = ['a', 'ab', 'abc', 'bac']\n",
    "filter(lambda k: 'ab' in k, lst)\n",
    "# => ['ab', 'abc']"
   ]
  },
  {
   "cell_type": "markdown",
   "id": "7f2aa087",
   "metadata": {},
   "source": [
    "#### Example Five"
   ]
  },
  {
   "cell_type": "code",
   "execution_count": null,
   "id": "b6c91d6a",
   "metadata": {},
   "outputs": [],
   "source": [
    "cubes = [x**3 for x in range(1, 11)]    # List Comprehension\n",
    "filter(lambda x: x % 3 == 0, cubes)\n",
    "# => [27, 216, 729]"
   ]
  },
  {
   "cell_type": "markdown",
   "id": "167db1d3",
   "metadata": {},
   "source": [
    "#### Example Six"
   ]
  },
  {
   "cell_type": "code",
   "execution_count": null,
   "id": "1dff85ce",
   "metadata": {},
   "outputs": [],
   "source": [
    "squares = [x**2 for x in range(1,11)]\n",
    "print filter(lambda x: x > 30 and x < 70, squares)\n",
    "# => [36, 49, 64]"
   ]
  },
  {
   "cell_type": "markdown",
   "id": "2f5c8360",
   "metadata": {},
   "source": [
    "#### Example Seven"
   ]
  },
  {
   "cell_type": "code",
   "execution_count": null,
   "id": "e4fcdcf3",
   "metadata": {},
   "outputs": [],
   "source": [
    "garbled = \"IXXX aXXmX aXXXnXoXXXXXtXhXeXXXXrX sXXXXeXcXXXrXeXt mXXeXsXXXsXaXXXXXXgXeX!XX\"\n",
    "message = filter(lambda x: 'X' not in x, garbled)\n",
    "print message\n",
    "# => \"I am another secret message!\""
   ]
  },
  {
   "cell_type": "markdown",
   "id": "1c4c0592",
   "metadata": {},
   "source": [
    "# Lists\n",
    "\n",
    "\n",
    "Lists are a datatype you can use to store a collection of different pieces of information as a\n",
    "sequence under a single variable name. (Datatypes you've already learned about include strings,\n",
    "numbers, and booleans.)"
   ]
  },
  {
   "cell_type": "code",
   "execution_count": null,
   "id": "bc9e0d9d",
   "metadata": {},
   "outputs": [],
   "source": [
    "zoo_animals = [\"pangolin\", \"cassowary\", \"sloth\", \"Optimus\"];\n",
    "if len(zoo_animals) > 3:\n",
    "    print \"The first animal at the zoo is the \" + zoo_animals[0]\n",
    "    print \"The second animal at the zoo is the \" + zoo_animals[1]\n",
    "    print \"The third animal at the zoo is the \" + zoo_animals[2]\n",
    "    print \"The fourth animal at the zoo is the \" + zoo_animals[3]"
   ]
  },
  {
   "cell_type": "markdown",
   "id": "4cc7ff4f",
   "metadata": {},
   "source": [
    "## Building Lists / List Comprehension\n",
    "\n",
    "Let's say you wanted to build a list of the numbers from 0 to 50\n",
    "(inclusive). We could do this pretty easily:"
   ]
  },
  {
   "cell_type": "code",
   "execution_count": null,
   "id": "29051396",
   "metadata": {},
   "outputs": [],
   "source": [
    "my_list = range(51)"
   ]
  },
  {
   "cell_type": "markdown",
   "id": "159572aa",
   "metadata": {},
   "source": [
    "But what if we wanted to generate a list according to some logic—for\n",
    "example, a list of all the even numbers from 0 to 50?\n",
    "\n",
    "\n",
    "Python's answer to this is the list comprehension. List comprehensions\n",
    "are a powerful way to generate lists using the keywords\n",
    "\n",
    "\n",
    "## for/in & if"
   ]
  },
  {
   "cell_type": "code",
   "execution_count": null,
   "id": "579ee992",
   "metadata": {},
   "outputs": [],
   "source": [
    "evens_to_50 = [i for i in range(51) if i % 2 == 0]\n",
    "print evens_to_50\n",
    "\n",
    "# This will create a new_list populated by the numbers one to five.\n",
    "new_list = [x for x in range(1,6)]\n",
    "# => [1, 2, 3, 4, 5]\n",
    "\n",
    "# If you want those numbers doubled, you could use:\n",
    "doubles = [x*2 for x in range(1,6)]\n",
    "# => [2, 4, 6, 8, 10]\n",
    "\n",
    "# And if you only wanted the doubled numbers that are evenly divisible by three:\n",
    "doubles_by_3 = [x*2 for x in range(1,6) if (x*2)%3 == 0]\n",
    "# => [6]\n",
    "\n",
    "# Even Squares\n",
    "even_squares = [i*i for i in range(1,12) if i*i % 2 == 0]\n",
    "\n",
    "c = ['C' for x in range(5) if x < 3]\n",
    "print c\n",
    "# => ['C', 'C', 'C'].\n",
    "\n",
    "cubes_by_four = [x ** 3 for x in range(1, 11) if x ** 3 % 4 == 0]\n",
    "print cubes_by_four\n",
    "# => [8, 64, 216, 512, 1000]\n",
    "\n",
    "threes_and_fives = [x for x in range(1,16) if x % 3 == 0 or x % 5 == 0]\n",
    "print threes_and_fives\n",
    "# => [3, 5, 6, 9, 10, 12, 15]"
   ]
  },
  {
   "cell_type": "markdown",
   "id": "92f88ded",
   "metadata": {},
   "source": [
    "## List Append"
   ]
  },
  {
   "cell_type": "code",
   "execution_count": null,
   "id": "d4e567ce",
   "metadata": {},
   "outputs": [],
   "source": [
    "A list doesn't have to have a fixed length. You can add items to the end of a\n",
    "list any time you like!"
   ]
  },
  {
   "cell_type": "code",
   "execution_count": null,
   "id": "9d08ba3a",
   "metadata": {},
   "outputs": [],
   "source": [
    "letters = ['a', 'b', 'c']\n",
    "letters.append('d')\n",
    "print len(letters)\n",
    "print letters"
   ]
  },
  {
   "cell_type": "markdown",
   "id": "d5907a7d",
   "metadata": {},
   "source": [
    "## List remove\n",
    "\n",
    "We can remove an item from the list."
   ]
  },
  {
   "cell_type": "code",
   "execution_count": null,
   "id": "70641c55",
   "metadata": {},
   "outputs": [],
   "source": [
    "letters.remove('a')"
   ]
  },
  {
   "cell_type": "markdown",
   "id": "61fa18e5",
   "metadata": {},
   "source": [
    "## List pop\n",
    "\n",
    "`n.pop(index)` will remove the item at index from the list and return it to you:"
   ]
  },
  {
   "cell_type": "code",
   "execution_count": null,
   "id": "795c4fe3",
   "metadata": {},
   "outputs": [],
   "source": [
    "n = [1, 3, 5]\n",
    "n.pop(1)\n",
    "# Returns 3 (the item at index 1)\n",
    "print n\n",
    "# prints [1, 5]"
   ]
  },
  {
   "cell_type": "markdown",
   "id": "d8b7efe3",
   "metadata": {},
   "source": [
    "## List remove\n",
    "\n",
    "`n.remove(item)` will remove the actual item if it finds it:"
   ]
  },
  {
   "cell_type": "code",
   "execution_count": null,
   "id": "c4b523e2",
   "metadata": {},
   "outputs": [],
   "source": [
    "n.remove(1)\n",
    "# Removes 1 from the list,\n",
    "# NOT the item at index 1\n",
    "print n\n",
    "# prints [3, 5]"
   ]
  },
  {
   "cell_type": "markdown",
   "id": "fa068eac",
   "metadata": {},
   "source": [
    "## List delete\n",
    "\n",
    "`del(n[1])` is like `.pop` in that it will remove the item at the given\n",
    "index, but it won't return it:"
   ]
  },
  {
   "cell_type": "code",
   "execution_count": null,
   "id": "d3feedb8",
   "metadata": {},
   "outputs": [],
   "source": [
    "del(n[1])\n",
    "# Doesn't return anything\n",
    "print n\n",
    "# prints [1, 5]"
   ]
  },
  {
   "cell_type": "markdown",
   "id": "e3710715",
   "metadata": {},
   "source": [
    "## List concatenate"
   ]
  },
  {
   "cell_type": "code",
   "execution_count": null,
   "id": "48beaf78",
   "metadata": {},
   "outputs": [],
   "source": [
    "a = [1, 2, 3]\n",
    "b = [4, 5, 6]\n",
    "print a + b\n",
    "# prints [1, 2, 3, 4, 5, 6]"
   ]
  },
  {
   "cell_type": "markdown",
   "id": "653f9736",
   "metadata": {},
   "source": [
    "The example above is just a reminder of how to concatenate two lists."
   ]
  },
  {
   "cell_type": "code",
   "execution_count": null,
   "id": "ef7cd100",
   "metadata": {},
   "outputs": [],
   "source": [
    "m = [1, 2, 3]\n",
    "n = [4, 5, 6]\n",
    "\n",
    "# Add your code here!\n",
    "def join_lists(x, y):\n",
    "    return x + y\n",
    "\n",
    "print join_lists(m, n)\n",
    "# You want this to print [1, 2, 3, 4, 5, 6]"
   ]
  },
  {
   "cell_type": "markdown",
   "id": "e94f1aaa",
   "metadata": {},
   "source": [
    "## List Reverse\n",
    "\n",
    "A negative stride progresses through the list from right to left.\n",
    "\n",
    "### Example One"
   ]
  },
  {
   "cell_type": "code",
   "execution_count": null,
   "id": "cbc51f85",
   "metadata": {},
   "outputs": [],
   "source": [
    "letters = ['A', 'B', 'C', 'D', 'E']\n",
    "print letters[::-1]\n",
    "# => ['E', 'D', 'C', 'B', 'A']"
   ]
  },
  {
   "cell_type": "markdown",
   "id": "bebaf8ba",
   "metadata": {},
   "source": [
    "### Example Two"
   ]
  },
  {
   "cell_type": "code",
   "execution_count": null,
   "id": "957a0eb5",
   "metadata": {},
   "outputs": [],
   "source": [
    "my_list = range(1, 11)\n",
    "backwards = my_list[::-1]\n",
    "print backwards\n",
    "# => [10, 9, 8, 7, 6, 5, 4, 3, 2, 1]"
   ]
  },
  {
   "cell_type": "markdown",
   "id": "e4891177",
   "metadata": {},
   "source": [
    "## List Slicing\n",
    "\n",
    "Access a portion of a list.\n",
    "\n",
    "List slicing allows us to access elements of a list in a concise manner.\n",
    "The syntax looks like this:"
   ]
  },
  {
   "cell_type": "code",
   "execution_count": null,
   "id": "54520075",
   "metadata": {},
   "outputs": [],
   "source": [
    "[start:end:stride]"
   ]
  },
  {
   "cell_type": "markdown",
   "id": "a7a9adee",
   "metadata": {},
   "source": [
    "Where start describes where the slice starts (inclusive), end is where\n",
    "it ends (exclusive), and stride describes the space between items in\n",
    "the sliced list. For example, a stride of 2 would select every other\n",
    "item from the original list to place in the sliced list.\n",
    "\n",
    "Stride Length\n",
    "\n",
    "A positive stride length traverses the list from left to right,\n",
    "and a negative one traverses the list from right to left.\n",
    "\n",
    "Further, a stride length of 1 traverses the list \"by ones,\" a stride\n",
    "length of 2 traverses the list \"by twos,\" and so on.\n",
    "\n",
    "\n",
    "### Example One"
   ]
  },
  {
   "cell_type": "code",
   "execution_count": null,
   "id": "42d1834a",
   "metadata": {},
   "outputs": [],
   "source": [
    "l = [i ** 2 for i in range(1, 11)]\n",
    "# Should be [1, 4, 9, 16, 25, 36, 49, 64, 81, 100]\n",
    "\n",
    "print l[2:9:2]\n",
    "# => [9, 25, 49, 81]"
   ]
  },
  {
   "cell_type": "markdown",
   "id": "c338d31a",
   "metadata": {},
   "source": [
    "### Example Two"
   ]
  },
  {
   "cell_type": "code",
   "execution_count": null,
   "id": "8a059638",
   "metadata": {},
   "outputs": [],
   "source": [
    "letters = ['a', 'b', 'c', 'd', 'e']\n",
    "slice = letters[1:3]\n",
    "print slice\n",
    "print letters"
   ]
  },
  {
   "cell_type": "markdown",
   "id": "484e388c",
   "metadata": {},
   "source": [
    "### Example Three"
   ]
  },
  {
   "cell_type": "code",
   "execution_count": null,
   "id": "4cd4d1fc",
   "metadata": {},
   "outputs": [],
   "source": [
    "to_21 = range(1,22)\n",
    "odds = to_21[::2]\n",
    "middle_third = to_21[7:14:1]\n",
    "\n",
    "print odds\n",
    "print middle_third\n",
    "\n",
    "# => [1, 3, 5, 7, 9, 11, 13, 15, 17, 19, 21]\n",
    "# => [8, 9, 10, 11, 12, 13, 14]"
   ]
  },
  {
   "cell_type": "markdown",
   "id": "a7d16b3d",
   "metadata": {},
   "source": [
    "### Example Four"
   ]
  },
  {
   "cell_type": "code",
   "execution_count": null,
   "id": "f4fb5753",
   "metadata": {},
   "outputs": [],
   "source": [
    "suitcase = [\"sunglasses\", \"hat\", \"passport\", \"laptop\", \"suit\", \"shoes\"]\n",
    "\n",
    "first  = suitcase[0:2]  # The first and second items (index zero and one)\n",
    "middle = suitcase[2:4]  # Third and fourth items (index two and three)\n",
    "last   = suitcase[4:6]  # The last two items (index four and five)"
   ]
  },
  {
   "cell_type": "markdown",
   "id": "c4ef9834",
   "metadata": {},
   "source": [
    "### Example Five"
   ]
  },
  {
   "cell_type": "code",
   "execution_count": null,
   "id": "5ee21bda",
   "metadata": {},
   "outputs": [],
   "source": [
    "animals = \"catdogfrog\"\n",
    "cat  = animals[:3]   # The first three characters of animals\n",
    "dog  = animals[3:6]  # The fourth through sixth characters\n",
    "frog = animals[6:]   # From the seventh character to the end"
   ]
  },
  {
   "cell_type": "markdown",
   "id": "3c0319bb",
   "metadata": {},
   "source": [
    "## Omitting Indices\n",
    "\n",
    "If you don't pass a particular index to the list slice,\n",
    "Python will pick a default."
   ]
  },
  {
   "cell_type": "code",
   "execution_count": null,
   "id": "75a34d5a",
   "metadata": {},
   "outputs": [],
   "source": [
    "to_five = ['A', 'B', 'C', 'D', 'E']\n",
    "\n",
    "print to_five[3:]\n",
    "# prints ['D', 'E']\n",
    "\n",
    "print to_five[:2]\n",
    "# prints ['A', 'B']\n",
    "\n",
    "print to_five[::2]\n",
    "# print ['A', 'C', 'E']\n",
    "\n",
    "to_one_hundred = range(101)\n",
    "backwards_by_tens = to_one_hundred[::-10]\n",
    "print backwards_by_tens\n",
    "# => [100, 90, 80, 70, 60, 50, 40, 30, 20, 10, 0]\n",
    "\n",
    "garbled = \"!XeXgXaXsXsXeXmX XtXeXrXcXeXsX XeXhXtX XmXaX XI\"\n",
    "message = garbled[::-2]\n",
    "print message\n",
    "# => 'I am the secret message!'"
   ]
  },
  {
   "cell_type": "markdown",
   "id": "5aba59a4",
   "metadata": {},
   "source": [
    "## List Insertion & Indexing\n",
    "\n",
    "\n",
    "Search for an item in a list"
   ]
  },
  {
   "cell_type": "code",
   "execution_count": null,
   "id": "75f6e3a0",
   "metadata": {},
   "outputs": [],
   "source": [
    "animals = [\"ant\", \"bat\", \"cat\"]\n",
    "print animals.index(\"bat\")"
   ]
  },
  {
   "cell_type": "markdown",
   "id": "796434c1",
   "metadata": {},
   "source": [
    "We can also insert items into a list."
   ]
  },
  {
   "cell_type": "code",
   "execution_count": null,
   "id": "0bb2e60e",
   "metadata": {},
   "outputs": [],
   "source": [
    "animals.insert(1, \"dog\")\n",
    "print animals"
   ]
  },
  {
   "cell_type": "markdown",
   "id": "aef39a7a",
   "metadata": {},
   "source": [
    "We insert `dog` at `index 1`, which moves everything down by `1`\n",
    "animals will be `[\"ant\", \"dog\", \"bat\", \"cat\"]`\n",
    "\n",
    "## Looping in lists"
   ]
  },
  {
   "cell_type": "code",
   "execution_count": null,
   "id": "9f43699f",
   "metadata": {},
   "outputs": [],
   "source": [
    "for variable in list_name:\n",
    "# Do stuff!"
   ]
  },
  {
   "cell_type": "markdown",
   "id": "e682d400",
   "metadata": {},
   "source": [
    "A variable name follows the for keyword; it will be assigned the value\n",
    "of each list item in turn.\n",
    "\n",
    "Then in list_name designates list_name as the list the loop will work on.\n",
    "\n",
    "\n",
    "### Example"
   ]
  },
  {
   "cell_type": "code",
   "execution_count": null,
   "id": "063c9389",
   "metadata": {},
   "outputs": [],
   "source": [
    "my_list = [1,9,3,8,5,7]\n",
    "\n",
    "for number in my_list:\n",
    "    # Your code here\n",
    "    print 2 * number\n",
    "\n",
    "names = [\"Adam\",\"Alex\",\"Mariah\",\"Martine\",\"Columbus\"]\n",
    "\n",
    "for i in names:\n",
    "    print i"
   ]
  },
  {
   "cell_type": "markdown",
   "id": "c9687fb7",
   "metadata": {},
   "source": [
    "### Method 1 - for item in list"
   ]
  },
  {
   "cell_type": "code",
   "execution_count": null,
   "id": "e451238a",
   "metadata": {},
   "outputs": [],
   "source": [
    "for item in list:\n",
    "    print item"
   ]
  },
  {
   "cell_type": "markdown",
   "id": "59fa3fa3",
   "metadata": {},
   "source": [
    "### Method 2 - iterate through indexes"
   ]
  },
  {
   "cell_type": "code",
   "execution_count": null,
   "id": "b20bfa5c",
   "metadata": {},
   "outputs": [],
   "source": [
    "for i in range(len(list)):\n",
    "    print list[i]"
   ]
  },
  {
   "cell_type": "markdown",
   "id": "5d63f938",
   "metadata": {},
   "source": [
    "Method 1 is useful to loop through the list, but it's not possible\n",
    "to modify the list this way.\n",
    "\n",
    "Method 2 uses indexes to loop through the list, making it possible\n",
    "to also modify the list if needed.\n",
    "\n",
    "\n",
    "## List of Lists\n",
    "\n",
    "Single list that contains multiple lists and how to use them in a function\n",
    "\n",
    "\n",
    "### Example One"
   ]
  },
  {
   "cell_type": "code",
   "execution_count": null,
   "id": "ede8d0ee",
   "metadata": {},
   "outputs": [],
   "source": [
    "list_of_lists = [[1,2,3], [4,5,6]]\n",
    "\n",
    "for lst in list_of_lists:\n",
    "    for item in lst:\n",
    "        print item"
   ]
  },
  {
   "cell_type": "markdown",
   "id": "1632bb23",
   "metadata": {},
   "source": [
    "### Example Two"
   ]
  },
  {
   "cell_type": "code",
   "execution_count": null,
   "id": "1b5e22c1",
   "metadata": {},
   "outputs": [],
   "source": [
    "  n = [[1, 2, 3], [4, 5, 6, 7, 8, 9]]\n",
    "  # Add your function here\n",
    "  def flatten(lists):\n",
    "    results = []\n",
    "    for numbers in lists:\n",
    "  for i in numbers:\n",
    "    results.append(i)\n",
    "    return results\n",
    "\n",
    "  print flatten(n)\n",
    "\n",
    "  # Creates a list containing 5 lists, each of 8 items, all set to 0\n",
    "  w, h = 8, 5\n",
    "  Matrix = [[0 for x in range(w)] for y in range(h)]"
   ]
  },
  {
   "cell_type": "markdown",
   "id": "528bff40",
   "metadata": {},
   "source": [
    "## Printing Pretty\n",
    "\n",
    "We're getting pretty close to a playable board, but wouldn't it be nice to get\n",
    "rid of those quote marks and commas?"
   ]
  },
  {
   "cell_type": "code",
   "execution_count": null,
   "id": "9d58f9f2",
   "metadata": {},
   "outputs": [],
   "source": [
    "letters = ['a', 'b', 'c', 'd']\n",
    "print \" \".join(letters)\n",
    "print \"---\".join(letters)"
   ]
  },
  {
   "cell_type": "markdown",
   "id": "835cee64",
   "metadata": {},
   "source": [
    "In the example above, we create a list called letters.\n",
    "Then, we print `a b c d`.\n",
    "\n",
    "The `.join` method uses the string to combine the items in the list.\n",
    "\n",
    "Finally, we print `a---b---c---d`.\n",
    "We are calling the `.join` function on the `---` string.\n",
    "\n",
    "\n",
    "### Example"
   ]
  },
  {
   "cell_type": "code",
   "execution_count": null,
   "id": "93c79c45",
   "metadata": {},
   "outputs": [],
   "source": [
    "board = []\n",
    "# Creates a list containing 5 lists, each of 5 items, all set to 0\n",
    "w, h = 5, 5\n",
    "board = [['O' for x in range(w)] for y in range(h)]\n",
    "\n",
    "def print_board(board):\n",
    "    for lst in board:\n",
    "print \" \".join(lst)\n",
    "\n",
    "print_board(board)"
   ]
  },
  {
   "cell_type": "markdown",
   "id": "9fbc800f",
   "metadata": {},
   "source": [
    "## Sorting the List\n",
    "\n",
    "\n",
    "Sorting can happen on numbers and strings. Others I do not know yet."
   ]
  },
  {
   "cell_type": "code",
   "execution_count": null,
   "id": "aabc28c1",
   "metadata": {},
   "outputs": [],
   "source": [
    "start_list = [5, 3, 1, 2, 4]\n",
    "square_list = []\n",
    "\n",
    "# Your code here!\n",
    "\n",
    "for i in start_list:\n",
    "    square_list.append(i ** 2)\n",
    "\n",
    "square_list.sort()\n",
    "print square_list"
   ]
  },
  {
   "cell_type": "markdown",
   "id": "4d42e23c",
   "metadata": {},
   "source": [
    "## Range in lists"
   ]
  },
  {
   "cell_type": "code",
   "execution_count": null,
   "id": "e121bed4",
   "metadata": {},
   "outputs": [],
   "source": [
    "n = [3, 5, 7]\n",
    "\n",
    "def double_list(x):\n",
    "    for i in range(0, len(x)):\n",
    "        x[i] = x[i] * 2\n",
    "    # Don't forget to return your new list!\n",
    "    return x\n",
    "\n",
    "print double_list(n)"
   ]
  },
  {
   "cell_type": "markdown",
   "id": "c560a773",
   "metadata": {},
   "source": [
    "## Passing a range into a function\n",
    "\n",
    "Okay! Range time. The Python `range()` function is just a shortcut for generating a\n",
    "list, so you can use ranges in all the same places you can use lists."
   ]
  },
  {
   "cell_type": "code",
   "execution_count": null,
   "id": "df1974eb",
   "metadata": {},
   "outputs": [],
   "source": [
    "range(6) # => [0,1,2,3,4,5]\n",
    "range(1,6) # => [1,2,3,4,5]\n",
    "range(1,6,3) # => [1,4]"
   ]
  },
  {
   "cell_type": "markdown",
   "id": "ed5569c3",
   "metadata": {},
   "source": [
    "The range function has three different versions:"
   ]
  },
  {
   "cell_type": "code",
   "execution_count": null,
   "id": "bc912c98",
   "metadata": {},
   "outputs": [],
   "source": [
    "range(stop)\n",
    "range(start, stop)\n",
    "range(start, stop, step)"
   ]
  },
  {
   "cell_type": "markdown",
   "id": "746a2bd6",
   "metadata": {},
   "source": [
    "In all cases, the `range()` function returns a list of numbers from start up to\n",
    "(but not including) stop. Each item increases by step.\n",
    "\n",
    "If omitted, start defaults to zero and step defaults to one.\n",
    "\n",
    "\n",
    "### Example One"
   ]
  },
  {
   "cell_type": "code",
   "execution_count": null,
   "id": "a2aefabb",
   "metadata": {},
   "outputs": [],
   "source": [
    "def my_function(x):\n",
    "    for i in range(0, len(x)):\n",
    "        x[i] = x[i] * 2\n",
    "    return x\n",
    "\n",
    "print my_function(range(2)) # Add your range between the parentheses!"
   ]
  },
  {
   "cell_type": "markdown",
   "id": "129e1f7f",
   "metadata": {},
   "source": [
    "### Example Two"
   ]
  },
  {
   "cell_type": "code",
   "execution_count": null,
   "id": "ca7f8236",
   "metadata": {},
   "outputs": [],
   "source": [
    "  n = [\"Michael\", \"Lieberman\"]\n",
    "  # Add your function here\n",
    "\n",
    "  def join_strings(words):\n",
    "      result = \"\"\n",
    "      for i in range(0, len(words)):\n",
    "    result = result + words[i]\n",
    "      return result\n",
    "\n",
    "  print join_strings(n)"
   ]
  },
  {
   "cell_type": "markdown",
   "id": "1f21cff3",
   "metadata": {},
   "source": [
    "## Enumerate\n",
    "\n",
    "`enumerate` works by supplying a corresponding index to each element in the list\n",
    "that you pass it. Each time you go through the loop, index will be one greater,\n",
    "and item will be the next item in the sequence. It's very similar to using a\n",
    "normal for loop with a list, except this gives us an easy way to count how many\n",
    "items we've seen so far.\n",
    "\n",
    "`enumerate` is a built-in function of Python. It’s usefulness can not be summarized\n",
    "in a single line. Yet most of the newcomers and even some advanced programmers are\n",
    "unaware of it. It allows us to loop over something and have an automatic counter."
   ]
  },
  {
   "cell_type": "code",
   "execution_count": null,
   "id": "482d8bc2",
   "metadata": {},
   "outputs": [],
   "source": [
    "  choices = ['pizza', 'pasta', 'salad', 'nachos']\n",
    "\n",
    "  print 'Your choices are:'\n",
    "  for index, item in enumerate(choices):\n",
    "      print index, item\n",
    "\n",
    "  for counter, value in enumerate(some_list):\n",
    "    print(counter, value)\n",
    "\n",
    "  my_list = ['apple', 'banana', 'grapes', 'pear']\n",
    "  for c, value in enumerate(my_list, 1):\n",
    "      print(c, value)\n",
    "\n",
    "  # Output:\n",
    "  # 1 apple\n",
    "  # 2 banana\n",
    "  # 3 grapes\n",
    "  # 4 pear"
   ]
  },
  {
   "cell_type": "markdown",
   "id": "cc70cdb0",
   "metadata": {},
   "source": [
    "## Iterating Multiple Lists\n",
    "\n",
    "\n",
    "Multiple lists\n",
    "\n",
    "It's also common to need to iterate over two lists at once. This is where\n",
    "the built-in `zip` function comes in handy.\n",
    "\n",
    "`zip` will create pairs of elements when passed two lists, and will stop at\n",
    "the end of the shorter list.\n",
    "\n",
    "`zip` can handle three or more lists as well!"
   ]
  },
  {
   "cell_type": "code",
   "execution_count": null,
   "id": "3a911554",
   "metadata": {},
   "outputs": [],
   "source": [
    "  list_a = [3, 9, 17, 15, 19]\n",
    "  list_b = [2, 4, 8, 10, 30, 40, 50, 60, 70, 80, 90]\n",
    "\n",
    "  for a, b in zip(list_a, list_b):\n",
    "      # Add your code here!\n",
    "      if a > b:\n",
    "          print a\n",
    "      else:\n",
    "          print b"
   ]
  },
  {
   "cell_type": "markdown",
   "id": "76dc3038",
   "metadata": {},
   "source": [
    "# Dictionary\n",
    "\n",
    "\n",
    "A `dictionary` is similar to a `list`, but you access values by looking up a key instead\n",
    "of an index. A key can be any string or number. Dictionaries are enclosed in\n",
    "*curly braces*, like so:"
   ]
  },
  {
   "cell_type": "code",
   "execution_count": null,
   "id": "d77050b7",
   "metadata": {},
   "outputs": [],
   "source": [
    "\td = {'key1' : 1, 'key2' : 2, 'key3' : 3}"
   ]
  },
  {
   "cell_type": "markdown",
   "id": "abc0c49c",
   "metadata": {},
   "source": [
    "This is a dictionary called d with three key-value pairs. The key `key1` points to the\n",
    "`value 1`, `key2` to `2`, and so on.\n",
    "\n",
    "Dictionaries are great for things like phone books (pairing a name with a phone number),\n",
    "login pages (pairing an e-mail address with a username), and more!\n",
    "\n",
    "\n",
    "## Assigning a dictionary with three key-value pairs to residents"
   ]
  },
  {
   "cell_type": "code",
   "execution_count": null,
   "id": "7edc0a5a",
   "metadata": {},
   "outputs": [],
   "source": [
    "  residents = {'Puffin' : 104, 'Sloth' : 105, 'Burmese Python' : 106}\n",
    "\n",
    "  print residents['Puffin'] # Prints Puffin's room number\n",
    "\n",
    "  # Your code here!\n",
    "  print residents['Sloth']\n",
    "  print residents['Burmese Python']"
   ]
  },
  {
   "cell_type": "markdown",
   "id": "753cc269",
   "metadata": {},
   "source": [
    "## Adding New entries\n",
    "\n",
    "An empty pair of curly braces `{}` is an empty dictionary, just like an empty pair of `[]`\n",
    "is an empty list."
   ]
  },
  {
   "cell_type": "code",
   "execution_count": null,
   "id": "976a6713",
   "metadata": {},
   "outputs": [],
   "source": [
    "  menu = {} # Empty dictionary\n",
    "  menu['Chicken Alfredo'] = 14.50 # Adding new key-value pair\n",
    "  print menu['Chicken Alfredo']\n",
    "\n",
    "  # Your code here: Add some dish-price pairs to menu!\n",
    "  menu['Letuce Sandwich'] = 3.50\n",
    "  menu['Mango Juice'] = 12.70\n",
    "  menu['Sweet Corn + Chat Masala'] = 1.80\n",
    "\n",
    "  print \"There are \" + str(len(menu)) + \" items on the menu.\"\n",
    "  print menu"
   ]
  },
  {
   "cell_type": "markdown",
   "id": "c07a83b7",
   "metadata": {},
   "source": [
    "## Add & Delete\n",
    "\n",
    "Because dictionaries are mutable, they can be changed in many ways. Items can be removed\n",
    "from a dictionary with the del command:"
   ]
  },
  {
   "cell_type": "code",
   "execution_count": null,
   "id": "2d3a9137",
   "metadata": {},
   "outputs": [],
   "source": [
    "  del dict_name[key_name]"
   ]
  },
  {
   "cell_type": "markdown",
   "id": "53b21493",
   "metadata": {},
   "source": [
    "will remove the key `key_name` and its associated value from the dictionary.\n",
    "A new value can be associated with a key by assigning a value to the key, like so:"
   ]
  },
  {
   "cell_type": "code",
   "execution_count": null,
   "id": "6798a353",
   "metadata": {},
   "outputs": [],
   "source": [
    "  dict_name[key] = new_value"
   ]
  },
  {
   "cell_type": "markdown",
   "id": "7404ba04",
   "metadata": {},
   "source": [
    "## Retrieve key and value\n",
    "\n",
    "### Method One"
   ]
  },
  {
   "cell_type": "code",
   "execution_count": null,
   "id": "e5ed8649",
   "metadata": {},
   "outputs": [],
   "source": [
    "  d = {'a': 'apple', 'b': 'berry', 'c': 'cherry'}\n",
    "\n",
    "  for key in d:\n",
    "      # Your code here!\n",
    "      print key, d[key]"
   ]
  },
  {
   "cell_type": "markdown",
   "id": "4ac523b5",
   "metadata": {},
   "source": [
    "### Method Two"
   ]
  },
  {
   "cell_type": "code",
   "execution_count": null,
   "id": "e385aa93",
   "metadata": {},
   "outputs": [],
   "source": [
    "  knights = {'gallahad': 'the pure', 'robin': 'the brave'}\n",
    "  for k, v in knights.iteritems():\n",
    "    print k, v\n",
    "\n",
    "  ''' Prints the key and the value '''\n",
    "  gallahad the pure\n",
    "  robin the brave"
   ]
  },
  {
   "cell_type": "markdown",
   "id": "379ffc71",
   "metadata": {},
   "source": [
    "### Example"
   ]
  },
  {
   "cell_type": "code",
   "execution_count": null,
   "id": "39dab192",
   "metadata": {},
   "outputs": [],
   "source": [
    "  >>> D = {'a': 1, 'b': 2, 'c': 3}\n",
    "  >>> for key in D:\n",
    "    print(key, '=>', D[key]) # Use dict keys iterator and index\n",
    "\n",
    "  a => 1\n",
    "  c => 3\n",
    "  b => 2\n",
    "\n",
    "  >>> list(D.items())\n",
    "  [('a', 1), ('c', 3), ('b', 2)]\n",
    "    >>> for (key, value) in D.items():\n",
    "    print(key, '=>', value)\t\t# Iterate over both keys and values\n",
    "\n",
    "  a => 1\n",
    "  c => 3\n",
    "  b => 2"
   ]
  },
  {
   "cell_type": "markdown",
   "id": "a80b3e8b",
   "metadata": {},
   "source": [
    "## Lists and Dictionaries"
   ]
  },
  {
   "cell_type": "code",
   "execution_count": null,
   "id": "b1025b01",
   "metadata": {},
   "outputs": [],
   "source": [
    "  inventory = {\n",
    "  'gold' : 500,\n",
    "  'pouch' : ['flint', 'twine', 'gemstone'], # Assigned a new list to 'pouch' key\n",
    "  'backpack' : ['xylophone','dagger', 'bedroll','bread loaf']\n",
    "  }\n",
    "\n",
    "  # Adding a key 'burlap bag' and assigning a list to it\n",
    "  inventory['burlap bag'] = ['apple', 'small ruby', 'three-toed sloth']\n",
    "\n",
    "  # Sorting the list found under the key 'pouch'\n",
    "  inventory['pouch'].sort()\n",
    "\n",
    "  # Your code here\n",
    "  inventory['pocket'] = ['seashell', 'strange berry', 'lint']\n",
    "  inventory['backpack'].sort()\n",
    "\n",
    "  inventory['backpack'].remove('dagger')\n",
    "  inventory['gold'] = inventory['gold'] + 50\n",
    "\n",
    "  print inventory['gold']\n",
    "  print inventory['pocket']\n",
    "  print inventory['pouch']\n",
    "  print inventory['backpack']"
   ]
  },
  {
   "cell_type": "markdown",
   "id": "649dd115",
   "metadata": {},
   "source": [
    "### Looping in dictionaries"
   ]
  },
  {
   "cell_type": "code",
   "execution_count": null,
   "id": "6fe0249f",
   "metadata": {},
   "outputs": [],
   "source": [
    "  prices = {\n",
    "      \"banana\" : 4,\n",
    "      \"apple\"  : 2,\n",
    "      \"orange\" : 1.5,\n",
    "      \"pear\"   : 3,\n",
    "  }\n",
    "  stock = {\n",
    "      \"banana\" : 6,\n",
    "      \"apple\"  : 0,\n",
    "      \"orange\" : 32,\n",
    "      \"pear\"   : 15,\n",
    "  }\n",
    "\n",
    "  for key in prices:\n",
    "      print key\n",
    "      print \"price: %s\" % prices[key]\n",
    "      print \"stock: %s\" % stock[key]\n",
    "\n",
    "  total = 0\n",
    "  for i in prices:\n",
    "      total = total + prices[i] * stock[i]\n",
    "    print total"
   ]
  },
  {
   "cell_type": "markdown",
   "id": "d132e073",
   "metadata": {},
   "source": [
    "## More Looping techniques\n",
    "\n",
    "\n",
    "To loop over two or more sequences at the same time, the\n",
    "entries can be paired with the `zip()` function."
   ]
  },
  {
   "cell_type": "code",
   "execution_count": null,
   "id": "47f92272",
   "metadata": {},
   "outputs": [],
   "source": [
    "  questions = ['name', 'quest', 'favorite color']\n",
    "  answers = ['lancelot', 'the holy grail', 'blue']\n",
    "  for q, a in zip(questions, answers):\n",
    "    print 'What is your {0}?  It is {1}.'.format(q, a)"
   ]
  },
  {
   "cell_type": "markdown",
   "id": "0e636439",
   "metadata": {},
   "source": [
    "## List of Dictionaries\n",
    "\n",
    "Iterating over a list of dictionaries"
   ]
  },
  {
   "cell_type": "code",
   "execution_count": null,
   "id": "7e0bfe66",
   "metadata": {},
   "outputs": [],
   "source": [
    "  lloyd = {\n",
    "      \"name\": \"Lloyd\",\n",
    "      \"homework\": [90.0,97.0, 75.0, 92.0],\n",
    "      \"quizzes\": [88.0, 40.0, 94.0],\n",
    "      \"tests\": [75.0, 90.0]\n",
    "  }\n",
    "  alice = {\n",
    "      \"name\": \"Alice\",\n",
    "      \"homework\": [100.0, 92.0, 98.0, 100.0],\n",
    "      \"quizzes\": [82.0, 83.0, 91.0],\n",
    "      \"tests\": [89.0, 97.0]\n",
    "  }\n",
    "  tyler = {\n",
    "      \"name\": \"Tyler\",\n",
    "      \"homework\": [0.0, 87.0, 75.0, 22.0],\n",
    "      \"quizzes\": [0.0, 75.0, 78.0],\n",
    "      \"tests\": [100.0, 100.0]\n",
    "  }\n",
    "\n",
    "  students = [lloyd, alice, tyler]\n",
    "\n",
    "  for n in [0,1,2]:\n",
    "      for k, v in students[n].iteritems():\n",
    "    print k, v\n",
    "\n",
    "    #OR\n",
    "\n",
    "  for n in range(len(students)):\n",
    "      for k, v in students[n].iteritems():\n",
    "    print k, v"
   ]
  },
  {
   "cell_type": "markdown",
   "id": "306b3b10",
   "metadata": {},
   "source": [
    "# Classes\n",
    "\n",
    "You can think of an object as a single data structure that contains data as\n",
    "well as functions; functions of objects are called methods\n",
    "\n",
    "Python is an object-oriented programming language, which means it\n",
    "manipulates programming constructs called objects."
   ]
  },
  {
   "cell_type": "code",
   "execution_count": null,
   "id": "48747950",
   "metadata": {},
   "outputs": [],
   "source": [
    "  len(\"Eric\")"
   ]
  },
  {
   "cell_type": "markdown",
   "id": "300a9c5d",
   "metadata": {},
   "source": [
    "Python is checking to see whether the string object you passed it has a\n",
    "length, and if it does, it returns the value associated with that attribute"
   ]
  },
  {
   "cell_type": "code",
   "execution_count": null,
   "id": "16932325",
   "metadata": {},
   "outputs": [],
   "source": [
    "  my_dict.items()"
   ]
  },
  {
   "cell_type": "markdown",
   "id": "229d8caf",
   "metadata": {},
   "source": [
    "Python checks to see if `my_dict` has an `items()` method (which all dictionaries\n",
    "have) and executes that method if it finds it.\n",
    "\n",
    "But what makes `Eric` a string and `my_dict` a dictionary? The fact that\n",
    "they're instances of the `str` and `dict` classes, respectively. A `class` is\n",
    "just a way of organizing and producing objects with similar attributes\n",
    "and methods\n",
    "\n",
    "\n",
    "## Example One\n",
    "\n",
    "\n",
    "Check out the code in the editor to the right. We've defined our own\n",
    "class, Fruit, and created a lemon instance"
   ]
  },
  {
   "cell_type": "code",
   "execution_count": null,
   "id": "5d858967",
   "metadata": {},
   "outputs": [],
   "source": [
    "  class Fruit(object):\n",
    "      \"\"\"A class that makes various tasty fruits.\"\"\"\n",
    "      def __init__(self, name, color, flavor, poisonous):\n",
    "          self.name = name\n",
    "          self.color = color\n",
    "          self.flavor = flavor\n",
    "          self.poisonous = poisonous\n",
    "\n",
    "      def description(self):\n",
    "          print \"I'm a %s %s and I taste %s.\" % (self.color, self.name, self.flavor)\n",
    "\n",
    "      def is_edible(self):\n",
    "          if not self.poisonous:\n",
    "              print \"Yep! I'm edible.\"\n",
    "          else:\n",
    "              print \"Don't eat me! I am super poisonous.\"\n",
    "\n",
    "  lemon = Fruit(\"lemon\", \"yellow\", \"sour\", False)\n",
    "\n",
    "  lemon.description()\n",
    "  lemon.is_edible()"
   ]
  },
  {
   "cell_type": "markdown",
   "id": "6f7aeecb",
   "metadata": {},
   "source": [
    "## Errors"
   ]
  },
  {
   "cell_type": "code",
   "execution_count": null,
   "id": "00a42220",
   "metadata": {},
   "outputs": [],
   "source": [
    "  # local variable 's' referenced before assignment\n",
    "\n",
    "  def digit_sum(n):\n",
    "    #s = 0\n",
    "    while(n != 0):\n",
    "        d = n % 10\n",
    "        n = n / 10\n",
    "        s = s + d\n",
    "    return s"
   ]
  }
 ],
 "metadata": {
  "interpreter": {
   "hash": "e7370f93d1d0cde622a1f8e1c04877d8463912d04d973331ad4851f04de6915a"
  },
  "kernelspec": {
   "display_name": "Python 3.8.10 64-bit",
   "language": "python",
   "name": "python3"
  },
  "language_info": {
   "codemirror_mode": {
    "name": "ipython",
    "version": 3
   },
   "file_extension": ".py",
   "mimetype": "text/x-python",
   "name": "python",
   "nbconvert_exporter": "python",
   "pygments_lexer": "ipython3",
   "version": "3.8.10"
  }
 },
 "nbformat": 4,
 "nbformat_minor": 5
}
